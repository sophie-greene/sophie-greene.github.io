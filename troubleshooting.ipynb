{
 "cells": [
  {
   "cell_type": "code",
   "execution_count": 4,
   "metadata": {},
   "outputs": [
    {
     "name": "stdout",
     "output_type": "stream",
     "text": [
      "Collecting md-to-html\n",
      "  Downloading md_to_html-0.7.3-py3-none-any.whl (5.0 kB)\n",
      "Collecting mistune==0.8.4\n",
      "  Downloading mistune-0.8.4-py2.py3-none-any.whl (16 kB)\n",
      "Collecting beautifulsoup4==4.9.3\n",
      "  Downloading beautifulsoup4-4.9.3-py3-none-any.whl (115 kB)\n",
      "\u001b[2K     \u001b[90m━━━━━━━━━━━━━━━━━━━━━━━━━━━━━━━━━━━━━━━\u001b[0m \u001b[32m115.8/115.8 kB\u001b[0m \u001b[31m3.8 MB/s\u001b[0m eta \u001b[36m0:00:00\u001b[0m\n",
      "\u001b[?25hCollecting soupsieve>1.2\n",
      "  Downloading soupsieve-2.4-py3-none-any.whl (37 kB)\n",
      "Installing collected packages: mistune, soupsieve, beautifulsoup4, md-to-html\n",
      "Successfully installed beautifulsoup4-4.9.3 md-to-html-0.7.3 mistune-0.8.4 soupsieve-2.4\n",
      "Note: you may need to restart the kernel to use updated packages.\n"
     ]
    }
   ],
   "source": [
    "%pip install md-to-html"
   ]
  },
  {
   "cell_type": "code",
   "execution_count": 5,
   "metadata": {},
   "outputs": [],
   "source": [
    "!md-to-html  --input macos_issues.md"
   ]
  },
  {
   "attachments": {},
   "cell_type": "markdown",
   "metadata": {},
   "source": [
    "#### Match resize all images in folder imgs"
   ]
  },
  {
   "cell_type": "code",
   "execution_count": 35,
   "metadata": {},
   "outputs": [
    {
     "ename": "SyntaxError",
     "evalue": "invalid syntax (272125252.py, line 11)",
     "output_type": "error",
     "traceback": [
      "\u001b[0;36m  Cell \u001b[0;32mIn[35], line 11\u001b[0;36m\u001b[0m\n\u001b[0;31m    df.apply(lambda row: row['img'].resize((cWidth,cHeight)).save(row['filename']) if ,axis=1)\u001b[0m\n\u001b[0m                                                                                      ^\u001b[0m\n\u001b[0;31mSyntaxError\u001b[0m\u001b[0;31m:\u001b[0m invalid syntax\n"
     ]
    }
   ],
   "source": [
    "from PIL import Image\n",
    "import pandas as pd\n",
    "\n",
    "files = !find imgs -iname \"*.png\"\n",
    "df =pd.DataFrame(files,columns=['filename'])\n",
    "df['img'] = df['filename'].apply(lambda x: Image.open(x).convert('RGB')) \n",
    "df[\"height\"] = df['img'].apply(lambda x: x.height)\n",
    "df[\"width\"] = df['img'].apply(lambda x: x.width)\n",
    "cWidth = df['width'].min()\n",
    "cHeight = df['height'].min()\n",
    "df.apply(lambda row: row['img'].resize((cWidth,cHeight)).save(row['filename']) if ,axis=1)\n"
   ]
  },
  {
   "cell_type": "code",
   "execution_count": 22,
   "metadata": {},
   "outputs": [],
   "source": [
    "# def match_crop two images\n"
   ]
  },
  {
   "cell_type": "code",
   "execution_count": 29,
   "metadata": {},
   "outputs": [
    {
     "ename": "NameError",
     "evalue": "name 'cWidth' is not defined",
     "output_type": "error",
     "traceback": [
      "\u001b[0;31m---------------------------------------------------------------------------\u001b[0m",
      "\u001b[0;31mNameError\u001b[0m                                 Traceback (most recent call last)",
      "Cell \u001b[0;32mIn[29], line 1\u001b[0m\n\u001b[0;32m----> 1\u001b[0m img1\u001b[39m.\u001b[39mresize(width\u001b[39m=\u001b[39mcWidth, height\u001b[39m=\u001b[39mcHeight)\n",
      "\u001b[0;31mNameError\u001b[0m: name 'cWidth' is not defined"
     ]
    }
   ],
   "source": [
    "img1.resize((c))"
   ]
  },
  {
   "cell_type": "code",
   "execution_count": null,
   "metadata": {},
   "outputs": [],
   "source": []
  }
 ],
 "metadata": {
  "kernelspec": {
   "display_name": "Python 3",
   "language": "python",
   "name": "python3"
  },
  "language_info": {
   "codemirror_mode": {
    "name": "ipython",
    "version": 3
   },
   "file_extension": ".py",
   "mimetype": "text/x-python",
   "name": "python",
   "nbconvert_exporter": "python",
   "pygments_lexer": "ipython3",
   "version": "3.11.3"
  },
  "orig_nbformat": 4
 },
 "nbformat": 4,
 "nbformat_minor": 2
}
