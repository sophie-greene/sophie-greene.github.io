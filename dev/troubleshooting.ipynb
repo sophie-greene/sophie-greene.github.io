{
 "cells": [
  {
   "cell_type": "code",
   "execution_count": 1,
   "metadata": {},
   "outputs": [
    {
     "name": "stdout",
     "output_type": "stream",
     "text": [
      "Note: you may need to restart the kernel to use updated packages.\n"
     ]
    }
   ],
   "source": [
    "%pip install md-to-html >/dev/null 2>/dev/null "
   ]
  },
  {
   "cell_type": "code",
   "execution_count": 2,
   "metadata": {},
   "outputs": [],
   "source": [
    "!md-to-html  --input macos_issues.md"
   ]
  },
  {
   "attachments": {},
   "cell_type": "markdown",
   "metadata": {},
   "source": [
    "#### Match resize all images in folder imgs"
   ]
  },
  {
   "cell_type": "code",
   "execution_count": 3,
   "metadata": {},
   "outputs": [
    {
     "data": {
      "text/html": [
       "<div>\n",
       "<style scoped>\n",
       "    .dataframe tbody tr th:only-of-type {\n",
       "        vertical-align: middle;\n",
       "    }\n",
       "\n",
       "    .dataframe tbody tr th {\n",
       "        vertical-align: top;\n",
       "    }\n",
       "\n",
       "    .dataframe thead th {\n",
       "        text-align: right;\n",
       "    }\n",
       "</style>\n",
       "<table border=\"1\" class=\"dataframe\">\n",
       "  <thead>\n",
       "    <tr style=\"text-align: right;\">\n",
       "      <th></th>\n",
       "      <th>filename</th>\n",
       "      <th>img</th>\n",
       "      <th>height</th>\n",
       "      <th>width</th>\n",
       "      <th>resize?</th>\n",
       "      <th>result</th>\n",
       "    </tr>\n",
       "  </thead>\n",
       "  <tbody>\n",
       "    <tr>\n",
       "      <th>0</th>\n",
       "      <td>imgs/snippet_creation_2.png</td>\n",
       "      <td>&lt;PIL.PngImagePlugin.PngImageFile image mode=RG...</td>\n",
       "      <td>1036</td>\n",
       "      <td>1130</td>\n",
       "      <td>False</td>\n",
       "      <td>pass: not required</td>\n",
       "    </tr>\n",
       "    <tr>\n",
       "      <th>1</th>\n",
       "      <td>imgs/snippet_creation_1.png</td>\n",
       "      <td>&lt;PIL.PngImagePlugin.PngImageFile image mode=RG...</td>\n",
       "      <td>1036</td>\n",
       "      <td>1130</td>\n",
       "      <td>False</td>\n",
       "      <td>pass: not required</td>\n",
       "    </tr>\n",
       "  </tbody>\n",
       "</table>\n",
       "</div>"
      ],
      "text/plain": [
       "                      filename   \n",
       "0  imgs/snippet_creation_2.png  \\\n",
       "1  imgs/snippet_creation_1.png   \n",
       "\n",
       "                                                 img  height  width  resize?   \n",
       "0  <PIL.PngImagePlugin.PngImageFile image mode=RG...    1036   1130    False  \\\n",
       "1  <PIL.PngImagePlugin.PngImageFile image mode=RG...    1036   1130    False   \n",
       "\n",
       "               result  \n",
       "0  pass: not required  \n",
       "1  pass: not required  "
      ]
     },
     "execution_count": 3,
     "metadata": {},
     "output_type": "execute_result"
    }
   ],
   "source": [
    "from PIL import Image\n",
    "import pandas as pd\n",
    "\n",
    "files = !find imgs -iname \"*.png\"\n",
    "df =pd.DataFrame(files,columns=['filename'])\n",
    "df['img'] = df['filename'].apply(lambda f: Image.open(f)) \n",
    "df[\"height\"] = df['img'].apply(lambda img: img.height)\n",
    "df[\"width\"] = df['img'].apply(lambda img: img.width)\n",
    "resizeWidth = df['width'].min()\n",
    "resizeHeight = df['height'].min()\n",
    "df['resize?'] = df.apply(lambda row: row['height'] != resizeHeight or row['width']!=resizeWidth , axis=1)\n",
    "df['result']= df.apply(lambda row: row['img'].resize((\n",
    "  resizeWidth,resizeHeight)).save(\n",
    "    row['filename']) if row['resize?'] else \"pass: not required\",axis=1)\n",
    "df"
   ]
  },
  {
   "cell_type": "code",
   "execution_count": null,
   "metadata": {},
   "outputs": [],
   "source": []
  }
 ],
 "metadata": {
  "kernelspec": {
   "display_name": "Python 3",
   "language": "python",
   "name": "python3"
  },
  "language_info": {
   "codemirror_mode": {
    "name": "ipython",
    "version": 3
   },
   "file_extension": ".py",
   "mimetype": "text/x-python",
   "name": "python",
   "nbconvert_exporter": "python",
   "pygments_lexer": "ipython3",
   "version": "3.11.3"
  },
  "orig_nbformat": 4
 },
 "nbformat": 4,
 "nbformat_minor": 2
}
