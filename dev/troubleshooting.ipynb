{
 "cells": [
  {
   "cell_type": "code",
   "execution_count": 1,
   "metadata": {},
   "outputs": [
    {
     "name": "stdout",
     "output_type": "stream",
     "text": [
      "Note: you may need to restart the kernel to use updated packages.\n"
     ]
    }
   ],
   "source": [
    "%pip install md-to-html >/dev/null 2>/dev/null "
   ]
  },
  {
   "cell_type": "code",
   "execution_count": 2,
   "metadata": {},
   "outputs": [],
   "source": [
    "!md-to-html  --input macos_issues.md"
   ]
  },
  {
   "attachments": {},
   "cell_type": "markdown",
   "metadata": {},
   "source": [
    "#### Match resize all images in folder imgs"
   ]
  },
  {
   "cell_type": "code",
   "execution_count": 3,
   "metadata": {},
   "outputs": [
    {
     "data": {
      "text/html": [
       "<div>\n",
       "<style scoped>\n",
       "    .dataframe tbody tr th:only-of-type {\n",
       "        vertical-align: middle;\n",
       "    }\n",
       "\n",
       "    .dataframe tbody tr th {\n",
       "        vertical-align: top;\n",
       "    }\n",
       "\n",
       "    .dataframe thead th {\n",
       "        text-align: right;\n",
       "    }\n",
       "</style>\n",
       "<table border=\"1\" class=\"dataframe\">\n",
       "  <thead>\n",
       "    <tr style=\"text-align: right;\">\n",
       "      <th></th>\n",
       "      <th>filename</th>\n",
       "      <th>img</th>\n",
       "      <th>height</th>\n",
       "      <th>width</th>\n",
       "      <th>resize?</th>\n",
       "      <th>result</th>\n",
       "    </tr>\n",
       "  </thead>\n",
       "  <tbody>\n",
       "    <tr>\n",
       "      <th>0</th>\n",
       "      <td>../imgs/snippet_creation_2.png</td>\n",
       "      <td>&lt;PIL.PngImagePlugin.PngImageFile image mode=RG...</td>\n",
       "      <td>1036</td>\n",
       "      <td>1130</td>\n",
       "      <td>False</td>\n",
       "      <td>pass: not required</td>\n",
       "    </tr>\n",
       "    <tr>\n",
       "      <th>1</th>\n",
       "      <td>../imgs/snippet_creation_1.png</td>\n",
       "      <td>&lt;PIL.PngImagePlugin.PngImageFile image mode=RG...</td>\n",
       "      <td>1036</td>\n",
       "      <td>1130</td>\n",
       "      <td>False</td>\n",
       "      <td>pass: not required</td>\n",
       "    </tr>\n",
       "  </tbody>\n",
       "</table>\n",
       "</div>"
      ],
      "text/plain": [
       "                         filename   \n",
       "0  ../imgs/snippet_creation_2.png  \\\n",
       "1  ../imgs/snippet_creation_1.png   \n",
       "\n",
       "                                                 img  height  width  resize?   \n",
       "0  <PIL.PngImagePlugin.PngImageFile image mode=RG...    1036   1130    False  \\\n",
       "1  <PIL.PngImagePlugin.PngImageFile image mode=RG...    1036   1130    False   \n",
       "\n",
       "               result  \n",
       "0  pass: not required  \n",
       "1  pass: not required  "
      ]
     },
     "execution_count": 3,
     "metadata": {},
     "output_type": "execute_result"
    }
   ],
   "source": [
    "from PIL import Image\n",
    "import pandas as pd\n",
    "\n",
    "files = !find ../imgs -iname \"*.png\"\n",
    "df =pd.DataFrame(files,columns=['filename'])\n",
    "df['img'] = df['filename'].apply(lambda f: Image.open(f)) \n",
    "df[\"height\"] = df['img'].apply(lambda img: img.height)\n",
    "df[\"width\"] = df['img'].apply(lambda img: img.width)\n",
    "resizeWidth = df['width'].min()\n",
    "resizeHeight = df['height'].min()\n",
    "df['resize?'] = df.apply(lambda row: row['height'] != resizeHeight or row['width']!=resizeWidth , axis=1)\n",
    "df['result']= df.apply(lambda row: row['img'].resize((\n",
    "  resizeWidth,resizeHeight)).save(\n",
    "    row['filename']) if row['resize?'] else \"pass: not required\",axis=1)\n",
    "df"
   ]
  },
  {
   "cell_type": "code",
   "execution_count": 4,
   "metadata": {},
   "outputs": [],
   "source": [
    "files = !find /Users/sophie/Documents/sophie-greene.github.io/ -type f -iname \"*\\.html\"  -or -iname \"*.css\" -or -iname \"*.js\" -or -iname  \"*.png\" "
   ]
  },
  {
   "cell_type": "code",
   "execution_count": 5,
   "metadata": {},
   "outputs": [],
   "source": [
    "df = df =pd.DataFrame(files,columns=['filename'])"
   ]
  },
  {
   "cell_type": "code",
   "execution_count": 6,
   "metadata": {},
   "outputs": [],
   "source": [
    "import os\n",
    "df['basename']=df.filename.apply(lambda x: x.split('/')[-1])\n",
    "df['path']=df.filename.apply(lambda x: '/'.join(x.split('/')[:-1]))"
   ]
  },
  {
   "cell_type": "code",
   "execution_count": 7,
   "metadata": {},
   "outputs": [
    {
     "data": {
      "text/plain": [
       "0                        index.html\n",
       "1                  prism_yellow.css\n",
       "2                         prism.css\n",
       "3                         style.css\n",
       "4                    prism-blue.css\n",
       "5            snippet_creation_2.png\n",
       "6            snippet_creation_1.png\n",
       "7                          prism.js\n",
       "8                     prism_blue.js\n",
       "9                   include_html.js\n",
       "10                  prism_yellow.js\n",
       "11                           nav.js\n",
       "12                 windows0105.html\n",
       "13                  latex_html.html\n",
       "14       add_user_to_sudo_list.html\n",
       "15                   filetypes.html\n",
       "16                   linuxtips.html\n",
       "17               startup_chime.html\n",
       "18    generate_vs_code_snippet.html\n",
       "19                       about.html\n",
       "20           research_intersts.html\n",
       "21            general_intersts.html\n",
       "22                         nav.html\n",
       "23                       video.html\n",
       "24                   converted.html\n",
       "25                        test.html\n",
       "Name: basename, dtype: object"
      ]
     },
     "execution_count": 7,
     "metadata": {},
     "output_type": "execute_result"
    }
   ],
   "source": [
    "df['basename'].apply(lambda name: f'{name}')"
   ]
  },
  {
   "cell_type": "code",
   "execution_count": null,
   "metadata": {},
   "outputs": [],
   "source": []
  }
 ],
 "metadata": {
  "kernelspec": {
   "display_name": "Python 3",
   "language": "python",
   "name": "python3"
  },
  "language_info": {
   "codemirror_mode": {
    "name": "ipython",
    "version": 3
   },
   "file_extension": ".py",
   "mimetype": "text/x-python",
   "name": "python",
   "nbconvert_exporter": "python",
   "pygments_lexer": "ipython3",
   "version": "3.11.3"
  },
  "orig_nbformat": 4
 },
 "nbformat": 4,
 "nbformat_minor": 2
}
