{
 "cells": [
  {
   "attachments": {},
   "cell_type": "markdown",
   "metadata": {},
   "source": [
    "# My Learning Journey\n",
    "\n",
    "## Data Science How-To\n",
    "\n",
    "#### 1. [Neural networks visualisation via graphviz](neural_nets.html).\n",
    "#### 2. Todo\n",
    "#### 3. Todo\n",
    "\n",
    "\n"
   ]
  },
  {
   "attachments": {},
   "cell_type": "markdown",
   "metadata": {},
   "source": [
    "## Data Science dependecies\n",
    "Please note that the following statement is used to import the libraries used in the demo."
   ]
  },
  {
   "cell_type": "code",
   "execution_count": null,
   "metadata": {
    "slideshow": {
     "slide_type": "subslide"
    }
   },
   "outputs": [],
   "source": [
    "try: \n",
    "    import networkx as nx\n",
    "    import matplotlib.pyplot as plt\n",
    "    from IPython.display import SVG\n",
    "    import numpy as np\n",
    "except Exception as e:\n",
    "  print(e)\n",
    "  %pip install matplotlib\n",
    "  %pip install graphviz\n",
    "  %pip install networkx\n",
    "  %pip install numpy"
   ]
  },
  {
   "attachments": {},
   "cell_type": "markdown",
   "metadata": {},
   "source": [
    "Alternatively you can use the file [requirements.txt](requirements.txt) and use `pip` to install all the libraries in the text file"
   ]
  },
  {
   "cell_type": "code",
   "execution_count": null,
   "metadata": {},
   "outputs": [],
   "source": [
    "%pip install -r requirements.txt >log.txt"
   ]
  },
  {
   "attachments": {},
   "cell_type": "markdown",
   "metadata": {},
   "source": [
    "If you're on macOS X you might need other preperations \n",
    "\n",
    "##### Setup Data Science environment on MacBook\n",
    "We first need to install [homebrew](brew.sh) the self proclaimed \"M\"issing Package Manager for macOS (or Linux)\" "
   ]
  },
  {
   "cell_type": "code",
   "execution_count": null,
   "metadata": {
    "vscode": {
     "languageId": "shellscript"
    }
   },
   "outputs": [],
   "source": [
    "# install homebrew\n",
    "/bin/bash -c \"$(curl -fsSL https://raw.githubusercontent.com/Homebrew/install/HEAD/install.sh)\"\n",
    "\n",
    "# activate brew\n",
    "export PATH=\"$PATH:/opt/homebrew/bin\"\n",
    "\n",
    "# install python3 \n",
    "brew install python3\n",
    "\n",
    "# create a soft link to python3 so that we can use python instead\n",
    "ln -s /opt/homebrew/bin/python3 /opt/homebrew/bin/python\n",
    "\n",
    "# create a link to pip3 so that we can use pip instead\n",
    "ln -s /opt/homebrew/bin/pip3 /opt/homebrew/bin/pip\n",
    "\n",
    "# create a new enviroment myDS, this helps you run different enviroments with different versions of packages\n",
    "# https://docs.python.org/3/tutorial/venv.html\n",
    "python -m venv myDS\n",
    "\n",
    "#activate the myDS enviroment\n",
    "source myDS/bin/activate\n",
    "\n",
    "# install graphviz\n",
    "brew install graphviz\n",
    "\n",
    "# install common libraries in DS\n",
    "pip install -r requirements.txt\n"
   ]
  },
  {
   "attachments": {},
   "cell_type": "markdown",
   "metadata": {},
   "source": [
    "Alternatively you can use macports, but after trying both I prefer brew"
   ]
  }
 ],
 "metadata": {
  "kernelspec": {
   "display_name": ".venv",
   "language": "python",
   "name": "python3"
  },
  "language_info": {
   "codemirror_mode": {
    "name": "ipython",
    "version": 3
   },
   "file_extension": ".py",
   "mimetype": "text/x-python",
   "name": "python",
   "nbconvert_exporter": "python",
   "pygments_lexer": "ipython3",
   "version": "3.9.6"
  },
  "orig_nbformat": 4
 },
 "nbformat": 4,
 "nbformat_minor": 2
}
